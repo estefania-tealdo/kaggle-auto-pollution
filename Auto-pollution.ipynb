{
 "cells": [
  {
   "cell_type": "markdown",
   "source": [
    "\r\n",
    "Pollution is a big issue in the city. Policy makers in the city want to take action and deploy some measures to address this problem. You have been hired as a machine learning expert to analyze some data and help them make good decisions.\r\n",
    "\r\n",
    "Cars that consume more fuel pollute more. As a first step, we want to estimate how much fuel each individual car consumes every 100 km. The provided dataset concerns city-cycle fuel consumption in liters per 100 kilometers (target).\r\n",
    "\r\n",
    "The aim of this homework is to help you apply the skills that you have learned so far to a real dataset. This involves learning what data means, how to handle and visualize data, training, cross validation, prediction, testing your model, etc.\r\n",
    "\r\n",
    "Description of covariates This dataset has 3 multi-valued discrete and 5 continuous covariates:\r\n",
    "1. cylinders:     multi-valued discrete\r\n",
    "2. displacement:  continuous\r\n",
    "3. horsepower:    continuous\r\n",
    "4. weight:        continuous\r\n",
    "5. acceleration:  continuous\r\n",
    "6. model year:    multi-valued discrete\r\n",
    "7. origin:        multi-valued discrete\r\n",
    "8. car name:      string (unique for each instance)"
   ],
   "metadata": {}
  },
  {
   "cell_type": "markdown",
   "source": [
    "### Load data"
   ],
   "metadata": {}
  },
  {
   "cell_type": "code",
   "execution_count": 91,
   "source": [
    "# importing the essentials:\r\n",
    "\r\n",
    "import numpy as np\r\n",
    "import pandas as pd\r\n",
    "import scipy as sp \r\n"
   ],
   "outputs": [],
   "metadata": {}
  },
  {
   "cell_type": "code",
   "execution_count": 139,
   "source": [
    "from sklearn.tree import DecisionTreeRegressor\r\n",
    "from sklearn.ensemble import RandomForestRegressor\r\n",
    "from sklearn.preprocessing import PolynomialFeatures\r\n",
    "from sklearn.linear_model import LogisticRegression\r\n",
    "from sklearn.linear_model import LinearRegression\r\n",
    "from sklearn.impute import KNNImputer\r\n",
    "from sklearn.metrics import mean_squared_error\r\n",
    "from sklearn.preprocessing import MinMaxScaler\r\n",
    "from sklearn.model_selection import train_test_split\r\n",
    "from sklearn.pipeline import make_pipeline\r\n",
    "from sklearn.preprocessing import StandardScaler\r\n",
    "from sklearn.svm import SVR\r\n",
    "from sklearn.datasets import make_regression\r\n",
    "\r\n"
   ],
   "outputs": [],
   "metadata": {}
  },
  {
   "cell_type": "code",
   "execution_count": 93,
   "source": [
    "# for neural networks:\r\n",
    "\r\n",
    "import keras\r\n",
    "from keras.models import Sequential\r\n",
    "from keras.layers import Dense\r\n",
    "from keras.optimizers import SGD, Adam\r\n",
    "from keras.regularizers import l2\r\n"
   ],
   "outputs": [],
   "metadata": {}
  },
  {
   "cell_type": "code",
   "execution_count": 94,
   "source": [
    "# for plotting:\r\n",
    "import matplotlib\r\n",
    "import matplotlib.pyplot as plt\r\n",
    "%matplotlib inline"
   ],
   "outputs": [],
   "metadata": {}
  },
  {
   "cell_type": "code",
   "execution_count": 95,
   "source": [
    "# extras:\r\n",
    "import seaborn as sns\r\n"
   ],
   "outputs": [],
   "metadata": {}
  },
  {
   "cell_type": "code",
   "execution_count": 96,
   "source": [
    "# Loading data:\r\n",
    "train_data = pd.read_csv('https://raw.githubusercontent.com/onefishy/Rwanda-course-2020/master/Competition_data/train.csv',na_values='?')\r\n",
    "train_data.head(5)"
   ],
   "outputs": [
    {
     "output_type": "execute_result",
     "data": {
      "text/html": [
       "<div>\n",
       "<style scoped>\n",
       "    .dataframe tbody tr th:only-of-type {\n",
       "        vertical-align: middle;\n",
       "    }\n",
       "\n",
       "    .dataframe tbody tr th {\n",
       "        vertical-align: top;\n",
       "    }\n",
       "\n",
       "    .dataframe thead th {\n",
       "        text-align: right;\n",
       "    }\n",
       "</style>\n",
       "<table border=\"1\" class=\"dataframe\">\n",
       "  <thead>\n",
       "    <tr style=\"text-align: right;\">\n",
       "      <th></th>\n",
       "      <th>cylinders</th>\n",
       "      <th>displacement</th>\n",
       "      <th>horsepower</th>\n",
       "      <th>weight</th>\n",
       "      <th>acceleration</th>\n",
       "      <th>model year</th>\n",
       "      <th>origin</th>\n",
       "      <th>car name</th>\n",
       "      <th>fuel (L/100km)</th>\n",
       "    </tr>\n",
       "  </thead>\n",
       "  <tbody>\n",
       "    <tr>\n",
       "      <th>0</th>\n",
       "      <td>4</td>\n",
       "      <td>106.0</td>\n",
       "      <td>63.00</td>\n",
       "      <td>2123.0</td>\n",
       "      <td>14.7</td>\n",
       "      <td>82</td>\n",
       "      <td>1</td>\n",
       "      <td>\"amc hornet\"</td>\n",
       "      <td>6.189737</td>\n",
       "    </tr>\n",
       "    <tr>\n",
       "      <th>1</th>\n",
       "      <td>8</td>\n",
       "      <td>400.0</td>\n",
       "      <td>150.0</td>\n",
       "      <td>3760.0</td>\n",
       "      <td>8.5</td>\n",
       "      <td>70</td>\n",
       "      <td>1</td>\n",
       "      <td>\"dodge challenger se\"</td>\n",
       "      <td>15.680667</td>\n",
       "    </tr>\n",
       "    <tr>\n",
       "      <th>2</th>\n",
       "      <td>4</td>\n",
       "      <td>104.0</td>\n",
       "      <td>70.00</td>\n",
       "      <td>2150.0</td>\n",
       "      <td>13.9</td>\n",
       "      <td>79</td>\n",
       "      <td>1</td>\n",
       "      <td>\"honda civic cvcc\"</td>\n",
       "      <td>6.817681</td>\n",
       "    </tr>\n",
       "    <tr>\n",
       "      <th>3</th>\n",
       "      <td>4</td>\n",
       "      <td>92.0</td>\n",
       "      <td>68.00</td>\n",
       "      <td>-1971.0</td>\n",
       "      <td>17.6</td>\n",
       "      <td>82</td>\n",
       "      <td>3</td>\n",
       "      <td>\"volvo 264gl\"</td>\n",
       "      <td>7.587419</td>\n",
       "    </tr>\n",
       "    <tr>\n",
       "      <th>4</th>\n",
       "      <td>6</td>\n",
       "      <td>167.0</td>\n",
       "      <td>120.0</td>\n",
       "      <td>3819.0</td>\n",
       "      <td>16.7</td>\n",
       "      <td>76</td>\n",
       "      <td>2</td>\n",
       "      <td>\"pontiac firebird\"</td>\n",
       "      <td>14.255152</td>\n",
       "    </tr>\n",
       "  </tbody>\n",
       "</table>\n",
       "</div>"
      ],
      "text/plain": [
       "   cylinders  displacement  horsepower  weight  acceleration  model year  \\\n",
       "0          4         106.0     63.00    2123.0          14.7          82   \n",
       "1          8         400.0     150.0    3760.0           8.5          70   \n",
       "2          4         104.0     70.00    2150.0          13.9          79   \n",
       "3          4          92.0     68.00   -1971.0          17.6          82   \n",
       "4          6         167.0     120.0    3819.0          16.7          76   \n",
       "\n",
       "   origin                  car name  fuel (L/100km)  \n",
       "0       1              \"amc hornet\"        6.189737  \n",
       "1       1     \"dodge challenger se\"       15.680667  \n",
       "2       1        \"honda civic cvcc\"        6.817681  \n",
       "3       3             \"volvo 264gl\"        7.587419  \n",
       "4       2        \"pontiac firebird\"       14.255152  "
      ]
     },
     "metadata": {},
     "execution_count": 96
    }
   ],
   "metadata": {}
  },
  {
   "cell_type": "code",
   "execution_count": 97,
   "source": [
    "test_data = pd.read_csv('https://raw.githubusercontent.com/onefishy/Rwanda-course-2020/master/Competition_data/test.csv')\r\n",
    "test_data.head(5)"
   ],
   "outputs": [
    {
     "output_type": "execute_result",
     "data": {
      "text/html": [
       "<div>\n",
       "<style scoped>\n",
       "    .dataframe tbody tr th:only-of-type {\n",
       "        vertical-align: middle;\n",
       "    }\n",
       "\n",
       "    .dataframe tbody tr th {\n",
       "        vertical-align: top;\n",
       "    }\n",
       "\n",
       "    .dataframe thead th {\n",
       "        text-align: right;\n",
       "    }\n",
       "</style>\n",
       "<table border=\"1\" class=\"dataframe\">\n",
       "  <thead>\n",
       "    <tr style=\"text-align: right;\">\n",
       "      <th></th>\n",
       "      <th>cylinders</th>\n",
       "      <th>displacement</th>\n",
       "      <th>horsepower</th>\n",
       "      <th>weight</th>\n",
       "      <th>acceleration</th>\n",
       "      <th>model year</th>\n",
       "      <th>origin</th>\n",
       "      <th>car name</th>\n",
       "    </tr>\n",
       "  </thead>\n",
       "  <tbody>\n",
       "    <tr>\n",
       "      <th>0</th>\n",
       "      <td>4</td>\n",
       "      <td>122.0</td>\n",
       "      <td>80.0</td>\n",
       "      <td>2450.0</td>\n",
       "      <td>15.5</td>\n",
       "      <td>74</td>\n",
       "      <td>1</td>\n",
       "      <td>\"ford galaxie 500\"</td>\n",
       "    </tr>\n",
       "    <tr>\n",
       "      <th>1</th>\n",
       "      <td>6</td>\n",
       "      <td>257.0</td>\n",
       "      <td>95.0</td>\n",
       "      <td>3191.0</td>\n",
       "      <td>17.8</td>\n",
       "      <td>76</td>\n",
       "      <td>1</td>\n",
       "      <td>\"ford pinto\"</td>\n",
       "    </tr>\n",
       "    <tr>\n",
       "      <th>2</th>\n",
       "      <td>4</td>\n",
       "      <td>87.0</td>\n",
       "      <td>65.0</td>\n",
       "      <td>2108.0</td>\n",
       "      <td>18.9</td>\n",
       "      <td>80</td>\n",
       "      <td>3</td>\n",
       "      <td>\"plymouth duster\"</td>\n",
       "    </tr>\n",
       "    <tr>\n",
       "      <th>3</th>\n",
       "      <td>8</td>\n",
       "      <td>399.0</td>\n",
       "      <td>167.0</td>\n",
       "      <td>4906.0</td>\n",
       "      <td>12.5</td>\n",
       "      <td>73</td>\n",
       "      <td>1</td>\n",
       "      <td>\"ford country squire (sw)\"</td>\n",
       "    </tr>\n",
       "    <tr>\n",
       "      <th>4</th>\n",
       "      <td>8</td>\n",
       "      <td>399.0</td>\n",
       "      <td>150.0</td>\n",
       "      <td>4462.0</td>\n",
       "      <td>13.0</td>\n",
       "      <td>73</td>\n",
       "      <td>1</td>\n",
       "      <td>\"dodge aspen 6\"</td>\n",
       "    </tr>\n",
       "  </tbody>\n",
       "</table>\n",
       "</div>"
      ],
      "text/plain": [
       "   cylinders  displacement  horsepower  weight  acceleration  model year  \\\n",
       "0          4         122.0        80.0  2450.0          15.5          74   \n",
       "1          6         257.0        95.0  3191.0          17.8          76   \n",
       "2          4          87.0        65.0  2108.0          18.9          80   \n",
       "3          8         399.0       167.0  4906.0          12.5          73   \n",
       "4          8         399.0       150.0  4462.0          13.0          73   \n",
       "\n",
       "   origin                       car name  \n",
       "0       1             \"ford galaxie 500\"  \n",
       "1       1                   \"ford pinto\"  \n",
       "2       3              \"plymouth duster\"  \n",
       "3       1     \"ford country squire (sw)\"  \n",
       "4       1                \"dodge aspen 6\"  "
      ]
     },
     "metadata": {},
     "execution_count": 97
    }
   ],
   "metadata": {}
  },
  {
   "cell_type": "code",
   "execution_count": 98,
   "source": [
    "train_data.dtypes"
   ],
   "outputs": [
    {
     "output_type": "execute_result",
     "data": {
      "text/plain": [
       "cylinders           int64\n",
       "displacement      float64\n",
       "horsepower         object\n",
       "weight            float64\n",
       "acceleration      float64\n",
       "model year          int64\n",
       "origin              int64\n",
       "car name           object\n",
       "fuel (L/100km)    float64\n",
       "dtype: object"
      ]
     },
     "metadata": {},
     "execution_count": 98
    }
   ],
   "metadata": {}
  },
  {
   "cell_type": "markdown",
   "source": [
    "### Clean data"
   ],
   "metadata": {}
  },
  {
   "cell_type": "code",
   "execution_count": 99,
   "source": [
    "# weights cannot be negative\r\n",
    "train_data['weight'] = train_data['weight'].abs()\r\n",
    "\r\n",
    "# horsepower is an object, need to be changed to numerical\r\n",
    "train_data['horsepower'] = pd.to_numeric(train_data['horsepower'], errors = 'coerce')\r\n",
    "\r\n",
    "# let us drop the type of car from both train  test dataset\r\n",
    "train_data = train_data.drop(['car name'], axis=1)\r\n",
    "test_data = test_data.drop(['car name'], axis=1)"
   ],
   "outputs": [],
   "metadata": {}
  },
  {
   "cell_type": "markdown",
   "source": [
    "### Check for null vals\r\n"
   ],
   "metadata": {}
  },
  {
   "cell_type": "code",
   "execution_count": 100,
   "source": [
    "train_data.isna().sum()"
   ],
   "outputs": [
    {
     "output_type": "execute_result",
     "data": {
      "text/plain": [
       "cylinders         0\n",
       "displacement      0\n",
       "horsepower        6\n",
       "weight            0\n",
       "acceleration      0\n",
       "model year        0\n",
       "origin            0\n",
       "fuel (L/100km)    0\n",
       "dtype: int64"
      ]
     },
     "metadata": {},
     "execution_count": 100
    }
   ],
   "metadata": {}
  },
  {
   "cell_type": "markdown",
   "source": [
    "### Fill nullvals using a linear regression models"
   ],
   "metadata": {}
  },
  {
   "cell_type": "code",
   "execution_count": 101,
   "source": [
    "# select cols with null vals\r\n",
    "null_data = train_data[train_data.isnull().any(axis=1)]\r\n",
    "dropped_data = train_data.dropna()\r\n",
    "\r\n",
    "x_imp = dropped_data.drop(['horsepower'], axis=1)\r\n",
    "y_imp = dropped_data.horsepower\r\n",
    "\r\n",
    "X_train, X_test, y_train, y_test = train_test_split(x_imp,y_imp, test_size = 0.3, random_state = 42)\r\n",
    "\r\n",
    "lr_model = LinearRegression()\r\n",
    "lr_model.fit(X_train,y_train)"
   ],
   "outputs": [
    {
     "output_type": "execute_result",
     "data": {
      "text/plain": [
       "LinearRegression()"
      ]
     },
     "metadata": {},
     "execution_count": 101
    }
   ],
   "metadata": {}
  },
  {
   "cell_type": "code",
   "execution_count": 102,
   "source": [
    "dropped_null_data = null_data.drop(['horsepower'],axis = 1)\r\n",
    "\r\n",
    "predictions = []\r\n",
    "for i in range(dropped_null_data.shape[0]):\r\n",
    "    predictions.append(dropped_null_data.iloc[i,:])\r\n",
    "\r\n",
    "#append all null values to the original data\r\n",
    "values = []\r\n",
    "for i in range(len(predictions)):\r\n",
    "    for j in range(dropped_null_data.shape[1]):\r\n",
    "        values.append(predictions[i][j])\r\n",
    "\r\n",
    "#start looping fora each cell with null value\r\n",
    "#instantaite some local variables for the loop      \r\n",
    "i = 0\r\n",
    "j = dropped_null_data.shape[1]\r\n",
    "lr_predictions =[]\r\n",
    "\r\n",
    "for a in range(0,dropped_null_data.shape[0]):\r\n",
    "    print(\"Prediction {}\".format(a+1))\r\n",
    "    print(lr_model.predict((np.array([values[i:j]]))))\r\n",
    "    lr_predictions.append(lr_model.predict((np.array([values[i:j]])))[0])\r\n",
    "    print(\"---------------\")\r\n",
    "    i = i+(int(len(values) / len(predictions)))\r\n",
    "    j = j+(int(len(values) / len(predictions)))\r\n",
    "\r\n",
    "null_index = train_data[train_data[\"horsepower\"].isna()].index\r\n",
    "\r\n",
    "#Append the predicted null values to our original dataset\r\n",
    "for i in range(len(null_index)):\r\n",
    "    train_data[\"horsepower\"][null_index[i]] = lr_predictions[i]\r\n",
    "\r\n",
    "#print the number of missing values after imputation\r\n",
    "print(\"Missing Values: {}\".format(train_data.isnull().sum().sum()))"
   ],
   "outputs": [
    {
     "output_type": "stream",
     "name": "stdout",
     "text": [
      "Prediction 1\n",
      "[59.58975531]\n",
      "---------------\n",
      "Prediction 2\n",
      "[74.67456643]\n",
      "---------------\n",
      "Prediction 3\n",
      "[80.85621823]\n",
      "---------------\n",
      "Prediction 4\n",
      "[59.77335237]\n",
      "---------------\n",
      "Prediction 5\n",
      "[106.19192562]\n",
      "---------------\n",
      "Prediction 6\n",
      "[90.55133999]\n",
      "---------------\n",
      "Missing Values: 0\n"
     ]
    },
    {
     "output_type": "stream",
     "name": "stderr",
     "text": [
      "C:\\Users\\estef\\AppData\\Local\\Temp/ipykernel_4504/3205778638.py:31: SettingWithCopyWarning: \n",
      "A value is trying to be set on a copy of a slice from a DataFrame\n",
      "\n",
      "See the caveats in the documentation: https://pandas.pydata.org/pandas-docs/stable/user_guide/indexing.html#returning-a-view-versus-a-copy\n",
      "  train_data[\"horsepower\"][null_index[i]] = lr_predictions[i]\n"
     ]
    }
   ],
   "metadata": {}
  },
  {
   "cell_type": "markdown",
   "source": [
    "### Remove outliers"
   ],
   "metadata": {}
  },
  {
   "cell_type": "code",
   "execution_count": 103,
   "source": [
    "# define limits\r\n",
    "low = 0.05\r\n",
    "high = 0.95\r\n",
    "\r\n",
    "quantile_df = train_data.quantile([low,high])\r\n",
    "features=['displacement', 'horsepower', 'weight', 'acceleration','fuel (L/100km)']\r\n",
    "\r\n",
    "for i in features:\r\n",
    "    train_data_rm = train_data[(train_data[i] > quantile_df.loc[0.05, i]) & (train_data[i] < quantile_df.loc[0.95, i])]\r\n",
    "    print('Number of rows after outlier in {} removal: {}'.format(i,train_data_rm.shape[0]))\r\n",
    "\r\n",
    "train_data = train_data_rm\r\n"
   ],
   "outputs": [
    {
     "output_type": "stream",
     "name": "stdout",
     "text": [
      "Number of rows after outlier in displacement removal: 267\n",
      "Number of rows after outlier in horsepower removal: 264\n",
      "Number of rows after outlier in weight removal: 268\n",
      "Number of rows after outlier in acceleration removal: 264\n",
      "Number of rows after outlier in fuel (L/100km) removal: 255\n"
     ]
    }
   ],
   "metadata": {}
  },
  {
   "cell_type": "markdown",
   "source": [
    "### Assign X and y"
   ],
   "metadata": {}
  },
  {
   "cell_type": "code",
   "execution_count": 104,
   "source": [
    "X = train_data.drop(['fuel (L/100km)'], axis = 1)\r\n",
    "\r\n",
    "y = train_data['fuel (L/100km)']"
   ],
   "outputs": [],
   "metadata": {}
  },
  {
   "cell_type": "markdown",
   "source": [
    "### One-hot encoding"
   ],
   "metadata": {}
  },
  {
   "cell_type": "code",
   "execution_count": 105,
   "source": [
    "# encoding all categorical variables\r\n",
    "\r\n",
    "X['origin'] = X['origin'].astype(str)\r\n",
    "X['cylinders'] = X['cylinders'].astype(str)\r\n",
    "X = pd.get_dummies(X)\r\n",
    "\r\n",
    "test_data['origin'] = test_data['origin'].astype(str)\r\n",
    "test_data['cylinders'] = test_data['cylinders'].astype(str)\r\n",
    "test_data = pd.get_dummies(test_data)\r\n",
    "\r\n",
    "test_data.insert(loc=7, column='cylinders_5', value = 0)"
   ],
   "outputs": [],
   "metadata": {}
  },
  {
   "cell_type": "markdown",
   "source": [
    "### Split dataset"
   ],
   "metadata": {}
  },
  {
   "cell_type": "code",
   "execution_count": 119,
   "source": [
    "x_train,x_test,y_train,y_test = train_test_split(X,y, test_size=0.2,random_state=0)"
   ],
   "outputs": [],
   "metadata": {}
  },
  {
   "cell_type": "code",
   "execution_count": 120,
   "source": [
    "print(\"Shape of Training data is:\",x_train.shape)\r\n",
    "print(\"Shape of Testing data is:\",x_test.shape)"
   ],
   "outputs": [
    {
     "output_type": "stream",
     "name": "stdout",
     "text": [
      "Shape of Training data is: (204, 13)\n",
      "Shape of Testing data is: (51, 13)\n"
     ]
    }
   ],
   "metadata": {}
  },
  {
   "cell_type": "markdown",
   "source": [
    "# Modeling"
   ],
   "metadata": {}
  },
  {
   "cell_type": "markdown",
   "source": [
    "## 1. Support Vector Regression - SVR"
   ],
   "metadata": {}
  },
  {
   "cell_type": "code",
   "execution_count": 160,
   "source": [
    "svm_regr = make_pipeline(StandardScaler(),SVR(C=8,epsilon=2e-1))\r\n",
    "svm_regr.fit(x_train,y_train)\r\n",
    "  \r\n",
    "# Step 2: Predict label on training set\r\n",
    "y_train_pred = svm_regr.predict(x_train)\r\n",
    "# Step 3: Compute RMSE on training set \r\n",
    "print('RMSE on Training Data on :', np.sqrt(mean_squared_error(y_train, y_train_pred)))\r\n",
    "# Step 4: Predict label on test set\r\n",
    "y_test_pred = (svm_regr.predict(x_test))\r\n",
    "# Step 5: Compute RMSE on test set \r\n",
    "print('RMSE on Testing Data  :', np.sqrt(mean_squared_error(y_test, y_test_pred)),'\\n')\r\n",
    "\r\n",
    "# Saving to a df\r\n",
    "prediction_SVM = svm_regr.predict(x_test)"
   ],
   "outputs": [
    {
     "output_type": "stream",
     "name": "stdout",
     "text": [
      "RMSE on Training Data on : 0.772848752617257\n",
      "RMSE on Testing Data  : 1.0458077072583167 \n",
      "\n"
     ]
    }
   ],
   "metadata": {}
  },
  {
   "cell_type": "markdown",
   "source": [
    "## 2. Linear Regression"
   ],
   "metadata": {}
  },
  {
   "cell_type": "code",
   "execution_count": 161,
   "source": [
    "lin_regr = LinearRegression()\r\n",
    "lin_regr.fit(x_train,y_train)\r\n",
    "\r\n",
    "y_train_pred = lin_regr.predict(x_train)\r\n",
    "\r\n",
    "print('RMSE on training data on :', np.sqrt(mean_squared_error(y_train,y_train_pred)))\r\n",
    "\r\n",
    "y_test_pred = lin_regr.predict(x_test)\r\n",
    "print('RMSE on testing data on :', np.sqrt(mean_squared_error(y_test,y_test_pred)))\r\n",
    "\r\n",
    "prediction_linreg = lin_regr.predict(x_test)\r\n"
   ],
   "outputs": [
    {
     "output_type": "stream",
     "name": "stdout",
     "text": [
      "RMSE on training data on : 1.02287719099466\n",
      "RMSE on testing data on : 0.9605270609452948\n"
     ]
    }
   ],
   "metadata": {}
  },
  {
   "cell_type": "markdown",
   "source": [
    "## 3. Random Forest"
   ],
   "metadata": {}
  },
  {
   "cell_type": "code",
   "execution_count": 162,
   "source": [
    "x,y = make_regression(n_features=8, n_informative=3, random_state=0, shuffle=False)\r\n",
    "rand_regr = RandomForestRegressor(max_depth=3, random_state=0)\r\n",
    "rand_regr.fit(x_train,y_train)\r\n",
    "\r\n",
    "y_train_pred = rand_regr.predict(x_train)\r\n",
    "print('RMSE on training data on: ', np.sqrt(mean_squared_error(y_train,y_train_pred)))\r\n",
    "\r\n",
    "y_test_pred = rand_regr.predict(x_test)\r\n",
    "print('RMSE on testing data on:', np.sqrt(mean_squared_error(y_test,y_test_pred)))\r\n",
    "\r\n",
    "prediction_randreg = lin_regr.predict(x_test)"
   ],
   "outputs": [
    {
     "output_type": "stream",
     "name": "stdout",
     "text": [
      "RMSE on training data on:  0.956258101283766\n",
      "RMSE on testing data on: 1.140804750053362\n"
     ]
    }
   ],
   "metadata": {}
  },
  {
   "cell_type": "markdown",
   "source": [
    "## 4. Decision Tree "
   ],
   "metadata": {}
  },
  {
   "cell_type": "code",
   "execution_count": 163,
   "source": [
    "dec_regr = DecisionTreeRegressor(max_depth=6)\r\n",
    "\r\n",
    "dec_regr.fit(x_train,y_train)\r\n",
    "\r\n",
    "y_train_pred = dec_regr.predict(x_train)\r\n",
    "print('RMSE on training data on: ', np.sqrt(mean_squared_error(y_train, y_train_pred)))\r\n",
    "\r\n",
    "y_test_pred = dec_regr.predict(x_test)\r\n",
    "print('RMSE on training data on: ', np.sqrt(mean_squared_error(y_test, y_test_pred)))\r\n",
    "\r\n",
    "\r\n",
    "prediction_decreg = dec_regr.predict(x_test)\r\n",
    "\r\n"
   ],
   "outputs": [
    {
     "output_type": "stream",
     "name": "stdout",
     "text": [
      "RMSE on training data on:  0.5358281574186513\n",
      "RMSE on training data on:  1.3523547731922596\n"
     ]
    }
   ],
   "metadata": {}
  }
 ],
 "metadata": {
  "orig_nbformat": 4,
  "language_info": {
   "name": "python",
   "version": "3.9.7",
   "mimetype": "text/x-python",
   "codemirror_mode": {
    "name": "ipython",
    "version": 3
   },
   "pygments_lexer": "ipython3",
   "nbconvert_exporter": "python",
   "file_extension": ".py"
  },
  "kernelspec": {
   "name": "python3",
   "display_name": "Python 3.9.7 64-bit (conda)"
  },
  "interpreter": {
   "hash": "f6eb2cc7f68303409d7b30f3b613569793593c7dda44c9bbac952f88eb72e04b"
  }
 },
 "nbformat": 4,
 "nbformat_minor": 2
}